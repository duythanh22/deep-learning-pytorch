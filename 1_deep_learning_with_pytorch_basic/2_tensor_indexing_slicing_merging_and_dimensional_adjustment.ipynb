{
 "cells": [
  {
   "cell_type": "code",
   "execution_count": 1,
   "outputs": [],
   "source": [
    "import torch"
   ],
   "metadata": {
    "collapsed": false,
    "ExecuteTime": {
     "end_time": "2024-05-28T09:21:35.996117Z",
     "start_time": "2024-05-28T09:21:32.466791Z"
    }
   },
   "id": "104f52baa0525ffe"
  },
  {
   "cell_type": "markdown",
   "source": [
    "## 1. Indexing\n",
    "### 1.1. Sử sử dụng *index* và *slice*"
   ],
   "metadata": {
    "collapsed": false
   },
   "id": "34a8a2d754a0ecd5"
  },
  {
   "cell_type": "code",
   "execution_count": 2,
   "outputs": [
    {
     "data": {
      "text/plain": "tensor([ 0,  3,  6,  9, 12, 15, 18, 21, 24, 27])"
     },
     "execution_count": 2,
     "metadata": {},
     "output_type": "execute_result"
    }
   ],
   "source": [
    "# Chỉ mục với tensor 1D\n",
    "\n",
    "t1 = torch.arange(0, 30, 3)\n",
    "t1"
   ],
   "metadata": {
    "collapsed": false,
    "ExecuteTime": {
     "end_time": "2024-05-28T09:22:12.383229Z",
     "start_time": "2024-05-28T09:22:12.364399Z"
    }
   },
   "id": "1a9a6213510a2788"
  },
  {
   "cell_type": "code",
   "execution_count": 3,
   "outputs": [
    {
     "data": {
      "text/plain": "(tensor(0), tensor(12), tensor(27))"
     },
     "execution_count": 3,
     "metadata": {},
     "output_type": "execute_result"
    }
   ],
   "source": [
    "t1[0], t1[4], t1[9] # kết quả khi lấy chỉ mục vẫn là một tensor"
   ],
   "metadata": {
    "collapsed": false,
    "ExecuteTime": {
     "end_time": "2024-05-28T09:22:18.520955Z",
     "start_time": "2024-05-28T09:22:18.507358Z"
    }
   },
   "id": "77a609d2f7bf9166"
  },
  {
   "cell_type": "code",
   "execution_count": 4,
   "outputs": [
    {
     "data": {
      "text/plain": "tensor([ 6,  9, 12, 15])"
     },
     "execution_count": 4,
     "metadata": {},
     "output_type": "execute_result"
    }
   ],
   "source": [
    "# slicing\n",
    "t1[2:6]"
   ],
   "metadata": {
    "collapsed": false,
    "ExecuteTime": {
     "end_time": "2024-05-28T09:22:35.974742Z",
     "start_time": "2024-05-28T09:22:35.965044Z"
    }
   },
   "id": "5a59ec3b464c6888"
  },
  {
   "cell_type": "code",
   "execution_count": 7,
   "outputs": [
    {
     "data": {
      "text/plain": "tensor([ 3, 12, 21])"
     },
     "execution_count": 7,
     "metadata": {},
     "output_type": "execute_result"
    }
   ],
   "source": [
    "t1[1:9:3] # Thêm step"
   ],
   "metadata": {
    "collapsed": false,
    "ExecuteTime": {
     "end_time": "2024-05-28T09:24:22.150056Z",
     "start_time": "2024-05-28T09:24:22.140611Z"
    }
   },
   "id": "c9db8942d1c25876"
  },
  {
   "cell_type": "code",
   "execution_count": 8,
   "outputs": [
    {
     "data": {
      "text/plain": "(tensor([ 3,  9, 15, 21, 27]), tensor([ 0,  6, 12, 18]))"
     },
     "execution_count": 8,
     "metadata": {},
     "output_type": "execute_result"
    }
   ],
   "source": [
    "t1[1::2], t1[:8:2]"
   ],
   "metadata": {
    "collapsed": false,
    "ExecuteTime": {
     "end_time": "2024-05-28T09:24:37.349460Z",
     "start_time": "2024-05-28T09:24:37.336789Z"
    }
   },
   "id": "65ef2f4973e1c725"
  },
  {
   "cell_type": "code",
   "execution_count": 9,
   "outputs": [
    {
     "data": {
      "text/plain": "tensor([[ 1,  2,  3,  4,  5,  6],\n        [ 7,  8,  9, 10, 11, 12],\n        [13, 14, 15, 16, 17, 18],\n        [19, 20, 21, 22, 23, 24]])"
     },
     "execution_count": 9,
     "metadata": {},
     "output_type": "execute_result"
    }
   ],
   "source": [
    "# Chỉ mục với tensor 2D\n",
    "t2 = torch.arange(1, 25).reshape((4, 6))\n",
    "t2"
   ],
   "metadata": {
    "collapsed": false,
    "ExecuteTime": {
     "end_time": "2024-05-28T09:24:59.088644Z",
     "start_time": "2024-05-28T09:24:59.079099Z"
    }
   },
   "id": "1f0475d2487352f3"
  },
  {
   "cell_type": "code",
   "execution_count": 10,
   "outputs": [
    {
     "data": {
      "text/plain": "(tensor(9),\n tensor([3, 9]),\n tensor([ 7,  9, 11]),\n tensor([ 7,  9, 11]),\n tensor([23, 17]),\n tensor([[ 1,  5],\n         [13, 17]]))"
     },
     "execution_count": 10,
     "metadata": {},
     "output_type": "execute_result"
    }
   ],
   "source": [
    "t2[1, 2], t2[:2, 2], t2[1, ::2], t2[1, [0,2,4]], t2[[3, 2], 4], t2[::2, ::4]"
   ],
   "metadata": {
    "collapsed": false,
    "ExecuteTime": {
     "end_time": "2024-05-28T09:25:04.708174Z",
     "start_time": "2024-05-28T09:25:04.679062Z"
    }
   },
   "id": "99566402dff8213"
  },
  {
   "cell_type": "code",
   "execution_count": 11,
   "outputs": [
    {
     "data": {
      "text/plain": "tensor([[[  1,   2,   3,   4,   5,   6],\n         [  7,   8,   9,  10,  11,  12],\n         [ 13,  14,  15,  16,  17,  18],\n         [ 19,  20,  21,  22,  23,  24],\n         [ 25,  26,  27,  28,  29,  30]],\n\n        [[ 31,  32,  33,  34,  35,  36],\n         [ 37,  38,  39,  40,  41,  42],\n         [ 43,  44,  45,  46,  47,  48],\n         [ 49,  50,  51,  52,  53,  54],\n         [ 55,  56,  57,  58,  59,  60]],\n\n        [[ 61,  62,  63,  64,  65,  66],\n         [ 67,  68,  69,  70,  71,  72],\n         [ 73,  74,  75,  76,  77,  78],\n         [ 79,  80,  81,  82,  83,  84],\n         [ 85,  86,  87,  88,  89,  90]],\n\n        [[ 91,  92,  93,  94,  95,  96],\n         [ 97,  98,  99, 100, 101, 102],\n         [103, 104, 105, 106, 107, 108],\n         [109, 110, 111, 112, 113, 114],\n         [115, 116, 117, 118, 119, 120]]])"
     },
     "execution_count": 11,
     "metadata": {},
     "output_type": "execute_result"
    }
   ],
   "source": [
    "# Chỉ mục với tensor 3D\n",
    "\n",
    "t3 = torch.arange(1, 121).reshape((4, 5, 6))\n",
    "t3"
   ],
   "metadata": {
    "collapsed": false,
    "ExecuteTime": {
     "end_time": "2024-05-28T09:25:09.343877Z",
     "start_time": "2024-05-28T09:25:09.332776Z"
    }
   },
   "id": "10fa02c8aca7dcd9"
  },
  {
   "cell_type": "code",
   "execution_count": 12,
   "outputs": [
    {
     "data": {
      "text/plain": "(tensor(54),\n tensor([[61, 63, 65],\n         [73, 75, 77],\n         [85, 87, 89]]),\n tensor([[[ 61,  63,  65],\n          [ 73,  75,  77],\n          [ 85,  87,  89]],\n \n         [[ 91,  93,  95],\n          [103, 105, 107],\n          [115, 117, 119]]]))"
     },
     "execution_count": 12,
     "metadata": {},
     "output_type": "execute_result"
    }
   ],
   "source": [
    "t3[1, 3, 5], t3[2, ::2, ::2], t3[2:, ::2, ::2]"
   ],
   "metadata": {
    "collapsed": false,
    "ExecuteTime": {
     "end_time": "2024-05-28T09:25:11.711148Z",
     "start_time": "2024-05-28T09:25:11.697355Z"
    }
   },
   "id": "9df86f9a37cc314d"
  },
  {
   "cell_type": "markdown",
   "source": [
    "### 1.2. Sử dụng hàm trong torch"
   ],
   "metadata": {
    "collapsed": false
   },
   "id": "e3f0de36256385fb"
  },
  {
   "cell_type": "code",
   "execution_count": 13,
   "outputs": [
    {
     "data": {
      "text/plain": "(1, tensor([ 0,  3,  6,  9, 12, 15, 18, 21, 24, 27]))"
     },
     "execution_count": 13,
     "metadata": {},
     "output_type": "execute_result"
    }
   ],
   "source": [
    "t1.ndim, t1"
   ],
   "metadata": {
    "collapsed": false,
    "ExecuteTime": {
     "end_time": "2024-05-28T09:25:20.984624Z",
     "start_time": "2024-05-28T09:25:20.974930Z"
    }
   },
   "id": "b7435c17ace68e64"
  },
  {
   "cell_type": "code",
   "execution_count": 14,
   "outputs": [
    {
     "data": {
      "text/plain": "tensor([3, 9])"
     },
     "execution_count": 14,
     "metadata": {},
     "output_type": "execute_result"
    }
   ],
   "source": [
    "# Sử dụng: index_select để lập chỉ mục\n",
    "indices = torch.tensor([1, 3])\n",
    "torch.index_select(t1, 0, indices)"
   ],
   "metadata": {
    "collapsed": false,
    "ExecuteTime": {
     "end_time": "2024-05-28T09:25:32.967126Z",
     "start_time": "2024-05-28T09:25:32.953853Z"
    }
   },
   "id": "6057880a98572895"
  },
  {
   "cell_type": "code",
   "execution_count": 15,
   "outputs": [
    {
     "data": {
      "text/plain": "(torch.Size([4, 6]),\n tensor([[ 1,  2,  3,  4,  5,  6],\n         [ 7,  8,  9, 10, 11, 12],\n         [13, 14, 15, 16, 17, 18],\n         [19, 20, 21, 22, 23, 24]]))"
     },
     "execution_count": 15,
     "metadata": {},
     "output_type": "execute_result"
    }
   ],
   "source": [
    "t2.shape, t2"
   ],
   "metadata": {
    "collapsed": false,
    "ExecuteTime": {
     "end_time": "2024-05-28T09:27:32.348999Z",
     "start_time": "2024-05-28T09:27:32.338105Z"
    }
   },
   "id": "ed4e5df0f5ace3a4"
  },
  {
   "cell_type": "code",
   "execution_count": 16,
   "outputs": [
    {
     "data": {
      "text/plain": "(tensor([[ 7,  8,  9, 10, 11, 12],\n         [19, 20, 21, 22, 23, 24]]),\n tensor([[ 2,  4],\n         [ 8, 10],\n         [14, 16],\n         [20, 22]]))"
     },
     "execution_count": 16,
     "metadata": {},
     "output_type": "execute_result"
    }
   ],
   "source": [
    "torch.index_select(t2, 0, indices), torch.index_select(t2, 1, indices)"
   ],
   "metadata": {
    "collapsed": false,
    "ExecuteTime": {
     "end_time": "2024-05-28T09:27:34.911852Z",
     "start_time": "2024-05-28T09:27:34.898922Z"
    }
   },
   "id": "62fd1727c83e8864"
  },
  {
   "cell_type": "code",
   "execution_count": 14,
   "outputs": [],
   "source": [],
   "metadata": {
    "collapsed": false,
    "ExecuteTime": {
     "end_time": "2023-08-24T08:00:51.571412600Z",
     "start_time": "2023-08-24T08:00:50.924972600Z"
    }
   },
   "id": "fc9d0be7309ff2b"
  },
  {
   "cell_type": "markdown",
   "source": [
    "## 2. torch.view()\n",
    "Phương thức `torch.view()` trong PyTorch được sử dụng để thay đổi kích thước (shape) của tensor mà không thay đổi dữ liệu của tensor đó. Phương thức này trả về một tensor mới, có cùng dữ liệu với tensor ban đầu, nhưng với kích thước khác.\n",
    "\n",
    "Tuy nhiên, đây cũng tương đương như shallow copy nên khi thay đổi một tensor thì tensor khác cũng được thay đổi.\n"
   ],
   "metadata": {
    "collapsed": false
   },
   "id": "d672d226e24a1498"
  },
  {
   "cell_type": "code",
   "execution_count": 17,
   "outputs": [
    {
     "data": {
      "text/plain": "(tensor([[ 1,  2,  3,  4,  5,  6],\n         [ 7,  8,  9, 10, 11, 12],\n         [13, 14, 15, 16, 17, 18],\n         [19, 20, 21, 22, 23, 24]]),\n torch.Size([4, 6]),\n tensor([[ 1,  2,  3,  4,  5,  6,  7,  8],\n         [ 9, 10, 11, 12, 13, 14, 15, 16],\n         [17, 18, 19, 20, 21, 22, 23, 24]]),\n torch.Size([3, 8]))"
     },
     "execution_count": 17,
     "metadata": {},
     "output_type": "execute_result"
    }
   ],
   "source": [
    "t2_view = t2.view(3, 8)\n",
    "t2, t2.shape, t2_view, t2_view.shape"
   ],
   "metadata": {
    "collapsed": false,
    "ExecuteTime": {
     "end_time": "2024-05-28T09:28:10.596472Z",
     "start_time": "2024-05-28T09:28:10.582062Z"
    }
   },
   "id": "bf1a4f8e873bd1fb"
  },
  {
   "cell_type": "code",
   "execution_count": 18,
   "outputs": [
    {
     "data": {
      "text/plain": "(tensor([[   1,    2,    3,    4,    5,    6],\n         [1000,    8, 1000,   10, 1000,   12],\n         [  13,   14,   15,   16,   17,   18],\n         [  19,   20,   21,   22,   23,   24]]),\n tensor([[   1,    2,    3,    4,    5,    6, 1000,    8],\n         [1000,   10, 1000,   12,   13,   14,   15,   16],\n         [  17,   18,   19,   20,   21,   22,   23,   24]]))"
     },
     "execution_count": 18,
     "metadata": {},
     "output_type": "execute_result"
    }
   ],
   "source": [
    "t2[1, ::2] = 1000\n",
    "t2, t2_view"
   ],
   "metadata": {
    "collapsed": false,
    "ExecuteTime": {
     "end_time": "2024-05-28T09:28:58.700499Z",
     "start_time": "2024-05-28T09:28:58.686861Z"
    }
   },
   "id": "b4a4835b8ea76333"
  },
  {
   "cell_type": "code",
   "execution_count": 19,
   "outputs": [
    {
     "data": {
      "text/plain": "(tensor([[   1,    2,    3,    4,    5,    6],\n         [1000,    8,  500,   10,  500,   12],\n         [ 500,   14,  500,   16,   17,   18],\n         [  19,   20,   21,   22,   23,   24]]),\n tensor([[   1,    2,    3,    4,    5,    6, 1000,    8],\n         [ 500,   10,  500,   12,  500,   14,  500,   16],\n         [  17,   18,   19,   20,   21,   22,   23,   24]]))"
     },
     "execution_count": 19,
     "metadata": {},
     "output_type": "execute_result"
    }
   ],
   "source": [
    "t2_view[1, ::2] = 500\n",
    "t2, t2_view"
   ],
   "metadata": {
    "collapsed": false,
    "ExecuteTime": {
     "end_time": "2024-05-28T09:29:05.366514Z",
     "start_time": "2024-05-28T09:29:05.351955Z"
    }
   },
   "id": "532affe92dd9f42e"
  },
  {
   "cell_type": "code",
   "execution_count": 20,
   "outputs": [
    {
     "data": {
      "text/plain": "(tensor([[   1,    2,    3,    4,    5,    6],\n         [1000,    8,  500,   10,  500,   12],\n         [ 500,   14,  500,   16,   17,   18],\n         [  19,   20,   21,   22,   23,   24]]),\n tensor([[[   1,    2,    3,    4],\n          [   5,    6, 1000,    8],\n          [ 500,   10,  500,   12]],\n \n         [[ 500,   14,  500,   16],\n          [  17,   18,   19,   20],\n          [  21,   22,   23,   24]]]))"
     },
     "execution_count": 20,
     "metadata": {},
     "output_type": "execute_result"
    }
   ],
   "source": [
    "t2_view_3d = t2.view(2,3, 4)\n",
    "t2, t2_view_3d"
   ],
   "metadata": {
    "collapsed": false,
    "ExecuteTime": {
     "end_time": "2024-05-28T09:29:08.817457Z",
     "start_time": "2024-05-28T09:29:08.805788Z"
    }
   },
   "id": "db409f035d7ec56b"
  },
  {
   "cell_type": "code",
   "execution_count": 21,
   "outputs": [
    {
     "data": {
      "text/plain": "(tensor([[   1,    2,    3,    4,    5,    6],\n         [1000,    8,  500,   10,  500,   12],\n         [2222,   14,  500,   16,   17,   18],\n         [2222,   20,   21,   22,   23,   24]]),\n tensor([[[   1,    2,    3,    4],\n          [   5,    6, 1000,    8],\n          [ 500,   10,  500,   12]],\n \n         [[2222,   14,  500,   16],\n          [  17,   18, 2222,   20],\n          [  21,   22,   23,   24]]]))"
     },
     "execution_count": 21,
     "metadata": {},
     "output_type": "execute_result"
    }
   ],
   "source": [
    "t2[2:, :1] = 2222\n",
    "t2, t2_view_3d"
   ],
   "metadata": {
    "collapsed": false,
    "ExecuteTime": {
     "end_time": "2024-05-28T09:29:22.228881Z",
     "start_time": "2024-05-28T09:29:22.210320Z"
    }
   },
   "id": "53fb12286bf292eb"
  },
  {
   "cell_type": "markdown",
   "source": [
    "## 3. Slicing\n",
    "- Phương thức `torch.chunk()` trong PyTorch được sử dụng để chia một tensor thành các tensor con theo một chiều được chỉ định. Cú pháp sử dụng của phương thức này như sau:\n",
    "\n",
    "`torch.chunk(input, chunks, dim=0)`\n",
    "\n",
    "Trong đó:\n",
    "\n",
    "    - input: là tensor cần được chia nhỏ.\n",
    "    - chunks: là số lượng các tensor con cần tạo.\n",
    "    - dim: là chiều của tensor mà ta muốn thực hiện phép chia. Mặc định là 0."
   ],
   "metadata": {
    "collapsed": false
   },
   "id": "f194fb2360f466be"
  },
  {
   "cell_type": "code",
   "execution_count": 22,
   "outputs": [
    {
     "data": {
      "text/plain": "(tensor([[   1,    2,    3,    4,    5,    6],\n         [1000,    8,  500,   10,  500,   12],\n         [2222,   14,  500,   16,   17,   18],\n         [2222,   20,   21,   22,   23,   24]]),\n (tensor([[1, 2, 3, 4, 5, 6]]),\n  tensor([[1000,    8,  500,   10,  500,   12]]),\n  tensor([[2222,   14,  500,   16,   17,   18]]),\n  tensor([[2222,   20,   21,   22,   23,   24]])),\n tensor([1000,    8,  500,   10,  500,   12]))"
     },
     "execution_count": 22,
     "metadata": {},
     "output_type": "execute_result"
    }
   ],
   "source": [
    "t2_chunked = torch.chunk(t2, 4, dim=0)\n",
    "t2, t2_chunked, t2_chunked[1][0]"
   ],
   "metadata": {
    "collapsed": false,
    "ExecuteTime": {
     "end_time": "2024-05-28T09:29:34.788903Z",
     "start_time": "2024-05-28T09:29:34.769050Z"
    }
   },
   "id": "9b98eea05c6c7c0d"
  },
  {
   "cell_type": "code",
   "execution_count": 23,
   "outputs": [
    {
     "data": {
      "text/plain": "(tensor([[   1,    2,    3,    4,    5,    6],\n         [ 100,    8,  100,   10,  100,   12],\n         [2222,   14,  500,   16,   17,   18],\n         [2222,   20,   21,   22,   23,   24]]),\n (tensor([[1, 2, 3, 4, 5, 6]]),\n  tensor([[100,   8, 100,  10, 100,  12]]),\n  tensor([[2222,   14,  500,   16,   17,   18]]),\n  tensor([[2222,   20,   21,   22,   23,   24]])),\n tensor([100,   8, 100,  10, 100,  12]))"
     },
     "execution_count": 23,
     "metadata": {},
     "output_type": "execute_result"
    }
   ],
   "source": [
    "t2_chunked[1][0][::2] = 100\n",
    "t2, t2_chunked, t2_chunked[1][0]"
   ],
   "metadata": {
    "collapsed": false,
    "ExecuteTime": {
     "end_time": "2024-05-28T09:29:38.639645Z",
     "start_time": "2024-05-28T09:29:38.625830Z"
    }
   },
   "id": "e260e4fd8dc298a1"
  },
  {
   "cell_type": "code",
   "execution_count": 24,
   "outputs": [
    {
     "data": {
      "text/plain": "((tensor([[  1,   2,   3,   4,   5,   6],\n          [100,   8, 100,  10, 100,  12]]),\n  tensor([[2222,   14,  500,   16,   17,   18],\n          [2222,   20,   21,   22,   23,   24]])),\n (tensor([[   1],\n          [ 100],\n          [2222],\n          [2222]]),\n  tensor([[ 2],\n          [ 8],\n          [14],\n          [20]]),\n  tensor([[  3],\n          [100],\n          [500],\n          [ 21]]),\n  tensor([[ 4],\n          [10],\n          [16],\n          [22]]),\n  tensor([[  5],\n          [100],\n          [ 17],\n          [ 23]]),\n  tensor([[ 6],\n          [12],\n          [18],\n          [24]])))"
     },
     "execution_count": 24,
     "metadata": {},
     "output_type": "execute_result"
    }
   ],
   "source": [
    "# khi số lượng phần tử ở tensor ban đầu không chia hết cho số chunk chỉ định \n",
    "# thì sẽ không báo lỗi mà nó sẽ được chia theo cách khác hợp lý  hơn\n",
    "\n",
    "torch.chunk(t2, 3, dim=0), torch.chunk(t2, 7, dim=1)"
   ],
   "metadata": {
    "collapsed": false,
    "ExecuteTime": {
     "end_time": "2024-05-28T09:30:03.632066Z",
     "start_time": "2024-05-28T09:30:03.616030Z"
    }
   },
   "id": "4f63379446a6db99"
  },
  {
   "cell_type": "markdown",
   "source": [
    "Phương thức `torch.split('tensor', 'num_of_tensor', 'dim')` trong PyTorch được sử dụng để chia một tensor thành các tensor con theo một chiều cụ thể."
   ],
   "metadata": {
    "collapsed": false
   },
   "id": "faf83f3a67ca47f9"
  },
  {
   "cell_type": "code",
   "execution_count": 25,
   "outputs": [
    {
     "data": {
      "text/plain": "(tensor([[  1,   2,   3,   4,   5,   6],\n         [100,   8, 100,  10, 100,  12]]),\n tensor([[2222,   14,  500,   16,   17,   18],\n         [2222,   20,   21,   22,   23,   24]]))"
     },
     "execution_count": 25,
     "metadata": {},
     "output_type": "execute_result"
    }
   ],
   "source": [
    "t2_splitted = torch.split(t2, 2, 0)\n",
    "t2_splitted"
   ],
   "metadata": {
    "collapsed": false,
    "ExecuteTime": {
     "end_time": "2024-05-28T09:30:12.039384Z",
     "start_time": "2024-05-28T09:30:12.028102Z"
    }
   },
   "id": "4189bd21ce551f8e"
  },
  {
   "cell_type": "code",
   "execution_count": 27,
   "outputs": [
    {
     "data": {
      "text/plain": "((tensor([[   1,    2,    3,    4,    5,    6],\n          [ 100,    8,  100,   10,  100,   12],\n          [2222,   14,  500,   16,   17,   18]]),\n  tensor([[2222,   20,   21,   22,   23,   24]])),\n (tensor([[1, 2, 3, 4, 5, 6]]),\n  tensor([[ 100,    8,  100,   10,  100,   12],\n          [2222,   14,  500,   16,   17,   18]]),\n  tensor([[2222,   20,   21,   22,   23,   24]])))"
     },
     "execution_count": 27,
     "metadata": {},
     "output_type": "execute_result"
    }
   ],
   "source": [
    "torch.split(t2, [3, 1], 0), torch.split(t2, [1, 2, 1], 0)\n",
    "\n",
    "# torch.split(t2, [1, 2, 3], 0) -> RuntimeError  vì tổng số tensor con cần chi vượt kích thước chiều được chia theo"
   ],
   "metadata": {
    "collapsed": false,
    "ExecuteTime": {
     "end_time": "2024-05-28T09:31:50.811918Z",
     "start_time": "2024-05-28T09:31:50.797572Z"
    }
   },
   "id": "42fd01f6a4ae265f"
  },
  {
   "cell_type": "code",
   "outputs": [
    {
     "ename": "RuntimeError",
     "evalue": "split_with_sizes expects split_sizes to sum exactly to 4 (input tensor's size at dimension 0), but got split_sizes=[1, 2, 3]",
     "output_type": "error",
     "traceback": [
      "\u001B[1;31m---------------------------------------------------------------------------\u001B[0m",
      "\u001B[1;31mRuntimeError\u001B[0m                              Traceback (most recent call last)",
      "Cell \u001B[1;32mIn[28], line 1\u001B[0m\n\u001B[1;32m----> 1\u001B[0m torch\u001B[38;5;241m.\u001B[39msplit(t2, [\u001B[38;5;241m1\u001B[39m, \u001B[38;5;241m2\u001B[39m, \u001B[38;5;241m3\u001B[39m], \u001B[38;5;241m0\u001B[39m)\n",
      "File \u001B[1;32m~\\anaconda3\\Lib\\site-packages\\torch\\functional.py:190\u001B[0m, in \u001B[0;36msplit\u001B[1;34m(tensor, split_size_or_sections, dim)\u001B[0m\n\u001B[0;32m    184\u001B[0m     \u001B[38;5;28;01mreturn\u001B[39;00m handle_torch_function(\n\u001B[0;32m    185\u001B[0m         split, (tensor,), tensor, split_size_or_sections, dim\u001B[38;5;241m=\u001B[39mdim)\n\u001B[0;32m    186\u001B[0m \u001B[38;5;66;03m# Overwriting reason:\u001B[39;00m\n\u001B[0;32m    187\u001B[0m \u001B[38;5;66;03m# This dispatches to two ATen functions depending on the type of\u001B[39;00m\n\u001B[0;32m    188\u001B[0m \u001B[38;5;66;03m# split_size_or_sections. The branching code is in _tensor.py, which we\u001B[39;00m\n\u001B[0;32m    189\u001B[0m \u001B[38;5;66;03m# call here.\u001B[39;00m\n\u001B[1;32m--> 190\u001B[0m \u001B[38;5;28;01mreturn\u001B[39;00m tensor\u001B[38;5;241m.\u001B[39msplit(split_size_or_sections, dim)\n",
      "File \u001B[1;32m~\\anaconda3\\Lib\\site-packages\\torch\\_tensor.py:896\u001B[0m, in \u001B[0;36mTensor.split\u001B[1;34m(self, split_size, dim)\u001B[0m\n\u001B[0;32m    894\u001B[0m     \u001B[38;5;28;01mreturn\u001B[39;00m torch\u001B[38;5;241m.\u001B[39m_VF\u001B[38;5;241m.\u001B[39msplit(\u001B[38;5;28mself\u001B[39m, split_size, dim)  \u001B[38;5;66;03m# type: ignore[attr-defined]\u001B[39;00m\n\u001B[0;32m    895\u001B[0m \u001B[38;5;28;01melse\u001B[39;00m:\n\u001B[1;32m--> 896\u001B[0m     \u001B[38;5;28;01mreturn\u001B[39;00m torch\u001B[38;5;241m.\u001B[39m_VF\u001B[38;5;241m.\u001B[39msplit_with_sizes(\u001B[38;5;28mself\u001B[39m, split_size, dim)\n",
      "\u001B[1;31mRuntimeError\u001B[0m: split_with_sizes expects split_sizes to sum exactly to 4 (input tensor's size at dimension 0), but got split_sizes=[1, 2, 3]"
     ]
    }
   ],
   "source": [
    "torch.split(t2, [1, 2, 3], 0)"
   ],
   "metadata": {
    "collapsed": false,
    "ExecuteTime": {
     "end_time": "2024-05-28T09:31:53.698440Z",
     "start_time": "2024-05-28T09:31:53.634916Z"
    }
   },
   "id": "be18666d8728991c",
   "execution_count": 28
  },
  {
   "cell_type": "code",
   "execution_count": 29,
   "outputs": [
    {
     "data": {
      "text/plain": "(tensor([[   1],\n         [ 100],\n         [2222],\n         [2222]]),\n tensor([[  2,   3],\n         [  8, 100],\n         [ 14, 500],\n         [ 20,  21]]),\n tensor([[ 4],\n         [10],\n         [16],\n         [22]]),\n tensor([[  5,   6],\n         [100,  12],\n         [ 17,  18],\n         [ 23,  24]]))"
     },
     "execution_count": 29,
     "metadata": {},
     "output_type": "execute_result"
    }
   ],
   "source": [
    "torch.split(t2, [1, 2, 1, 2], 1)"
   ],
   "metadata": {
    "collapsed": false,
    "ExecuteTime": {
     "end_time": "2024-05-28T09:31:57.175213Z",
     "start_time": "2024-05-28T09:31:57.162213Z"
    }
   },
   "id": "4b3cc74e8f25839b"
  },
  {
   "cell_type": "code",
   "execution_count": 30,
   "outputs": [
    {
     "data": {
      "text/plain": "(tensor([[     1,      2,      3,      4,      5,      6],\n         [   100,      8,    100,     10,    100,     12],\n         [-10000,     14, -10000,     16, -10000,     18],\n         [  2222,     20,     21,     22,     23,     24]]),\n (tensor([[  1,   2,   3,   4,   5,   6],\n          [100,   8, 100,  10, 100,  12]]),\n  tensor([[-10000,     14, -10000,     16, -10000,     18],\n          [  2222,     20,     21,     22,     23,     24]])))"
     },
     "execution_count": 30,
     "metadata": {},
     "output_type": "execute_result"
    }
   ],
   "source": [
    "t2_splitted[1][:1, ::2] = -10000 # chỉnh sửa thay đổi cả 2 tensor\n",
    "t2, t2_splitted"
   ],
   "metadata": {
    "collapsed": false,
    "ExecuteTime": {
     "end_time": "2024-05-28T09:32:04.245514Z",
     "start_time": "2024-05-28T09:32:04.230750Z"
    }
   },
   "id": "6973503d689e3ab4"
  },
  {
   "cell_type": "markdown",
   "source": [
    "## 4. Merger\n",
    "Kết hợp các tensor thành một tensor lớn hơn bằng cách nối hoặc xếp các tensor với nhau tương tự như việc thêm phần tử vào list\n",
    "\n",
    "- `torch.cat()` dùng để nối các tensor cùng kích thước trên một chiều nhất định. Nó cũng có thể được sử dụng để nối các tensor có số chiều khác nhau, tuy nhiên, ta cần chỉ định trục nào được sử dụng để nối.\n",
    "\n",
    "- `torch.stack()` dùng để xếp các tensor lên nhau để tạo ra một tensor mới có số chiều lớn hơn.\n"
   ],
   "metadata": {
    "collapsed": false
   },
   "id": "43d4774f05eb3a93"
  },
  {
   "cell_type": "code",
   "execution_count": 31,
   "outputs": [
    {
     "data": {
      "text/plain": "(tensor([[0., 0., 0.],\n         [0., 0., 0.]]),\n tensor([[1., 1., 1.],\n         [1., 1., 1.]]),\n tensor([[0., 0., 0.],\n         [0., 0., 0.],\n         [0., 0., 0.]]))"
     },
     "execution_count": 31,
     "metadata": {},
     "output_type": "execute_result"
    }
   ],
   "source": [
    "# Sử dụng cat()\n",
    "\n",
    "a = torch.zeros(2, 3)\n",
    "b = torch.ones(2, 3)\n",
    "c = torch.zeros(3, 3)\n",
    "a, b, c"
   ],
   "metadata": {
    "collapsed": false,
    "ExecuteTime": {
     "end_time": "2024-05-28T09:33:27.575327Z",
     "start_time": "2024-05-28T09:33:27.560027Z"
    }
   },
   "id": "8a2a825704399f69"
  },
  {
   "cell_type": "code",
   "execution_count": 32,
   "outputs": [
    {
     "data": {
      "text/plain": "tensor([[0., 0., 0.],\n        [0., 0., 0.],\n        [1., 1., 1.],\n        [1., 1., 1.]])"
     },
     "execution_count": 32,
     "metadata": {},
     "output_type": "execute_result"
    }
   ],
   "source": [
    "# Nối theo hàng, dim: mặc định là 0\n",
    "\n",
    "torch.cat([a, b])"
   ],
   "metadata": {
    "collapsed": false,
    "ExecuteTime": {
     "end_time": "2024-05-28T09:35:14.513445Z",
     "start_time": "2024-05-28T09:35:14.497683Z"
    }
   },
   "id": "2b333a4718d5a358"
  },
  {
   "cell_type": "code",
   "execution_count": 33,
   "outputs": [
    {
     "data": {
      "text/plain": "tensor([[0., 0., 0., 1., 1., 1.],\n        [0., 0., 0., 1., 1., 1.]])"
     },
     "execution_count": 33,
     "metadata": {},
     "output_type": "execute_result"
    }
   ],
   "source": [
    "# torch.cat([a, c], dim=1)  -> RuntimeError: vì kích thước 2 tensor không tương thích\n",
    "\n",
    "torch.cat([a,b], dim=1)"
   ],
   "metadata": {
    "collapsed": false,
    "ExecuteTime": {
     "end_time": "2024-05-28T09:35:28.103300Z",
     "start_time": "2024-05-28T09:35:28.090269Z"
    }
   },
   "id": "d693f77b45519c22"
  },
  {
   "cell_type": "code",
   "execution_count": 34,
   "outputs": [
    {
     "data": {
      "text/plain": "(torch.Size([2, 3]), torch.Size([2, 3]), torch.Size([3, 3]))"
     },
     "execution_count": 34,
     "metadata": {},
     "output_type": "execute_result"
    }
   ],
   "source": [
    "# Sử dụng stack\n",
    "a.shape, b.shape, c.shape"
   ],
   "metadata": {
    "collapsed": false,
    "ExecuteTime": {
     "end_time": "2024-05-28T09:35:36.590694Z",
     "start_time": "2024-05-28T09:35:36.583888Z"
    }
   },
   "id": "bb5e76b926b608f2"
  },
  {
   "cell_type": "code",
   "execution_count": 35,
   "outputs": [
    {
     "data": {
      "text/plain": "(tensor([[[0., 0., 0.],\n          [0., 0., 0.]],\n \n         [[1., 1., 1.],\n          [1., 1., 1.]]]),\n torch.Size([2, 2, 3]))"
     },
     "execution_count": 35,
     "metadata": {},
     "output_type": "execute_result"
    }
   ],
   "source": [
    "# torch.stack([a, c]) -> RuntimeError: kích thước các tensor xếp phải giống nhau\n",
    "torch.stack([a, b]), torch.stack([a, b]).shape"
   ],
   "metadata": {
    "collapsed": false,
    "ExecuteTime": {
     "end_time": "2024-05-28T09:35:39.072254Z",
     "start_time": "2024-05-28T09:35:39.061354Z"
    }
   },
   "id": "cd7f1c8bfd9f1158"
  },
  {
   "cell_type": "markdown",
   "source": [
    "#### Khác biệt của hai phương thức:\n",
    "\n",
    "- Khi sử dụng phương thức `torch.cat()`, sau khi nối (concatenate) các tensor lại với nhau, số chiều của tensor kết quả vẫn giữ nguyên. Trong khi đó, sử dụng phương thức `torch.stack()`, số chiều của tensor kết quả sẽ tăng lên một đơn vị.\n",
    "\n",
    "- Khi sử dụng `torch.cat()`, các tensor được nối vào cùng một tensor kết quả. Trong khi đó, với `torch.stack()`, các tensor được xếp chồng lên nhau và được bọc trong một tensor kết quả mới.\n",
    "\n",
    "- Vì các tensor được xếp chồng lên nhau trong phương thức `torch.stack()`, nó yêu cầu các tensor được xếp chồng phải có cùng kích thước tại tất cả các chiều. Trong khi đó, `torch.cat()` có thể nối các tensor có kích thước khác nhau tại một số chiều được chỉ định."
   ],
   "metadata": {
    "collapsed": false
   },
   "id": "9a6cd38192153ee4"
  },
  {
   "cell_type": "markdown",
   "source": [
    "### 5. Tensor dimensional adjustment\n",
    "\n",
    "- Bằng phương thức `reshape`, ta có thể linh hoạt điều chỉnh hình dạng của Tensor. Trong quá trình tính toán với Tensor, thường cần thực hiện thêm các thao tác giảm hoặc tăng số chiều của Tensor:\n",
    "\n",
    "- Khi cần loại bỏ các chiều không cần thiết, ta có thể sử dụng hàm `squeeze`\n",
    "- Khi cần tăng số chiều một cách thủ công, ta có thể sử dụng hàm `unsqueeze`"
   ],
   "metadata": {
    "collapsed": false
   },
   "id": "2df16ea503e55fa7"
  },
  {
   "cell_type": "code",
   "execution_count": 36,
   "outputs": [
    {
     "data": {
      "text/plain": "(tensor([[[[1., 1.],\n           [1., 1.],\n           [1., 1.]],\n \n          [[1., 1.],\n           [1., 1.],\n           [1., 1.]]],\n \n \n         [[[1., 1.],\n           [1., 1.],\n           [1., 1.]],\n \n          [[1., 1.],\n           [1., 1.],\n           [1., 1.]]],\n \n \n         [[[1., 1.],\n           [1., 1.],\n           [1., 1.]],\n \n          [[1., 1.],\n           [1., 1.],\n           [1., 1.]]]]),\n 4,\n torch.Size([3, 2, 3, 2]),\n tensor([[[1., 1., 1.],\n          [1., 1., 1.],\n          [1., 1., 1.]],\n \n         [[1., 1., 1.],\n          [1., 1., 1.],\n          [1., 1., 1.]],\n \n         [[1., 1., 1.],\n          [1., 1., 1.],\n          [1., 1., 1.]],\n \n         [[1., 1., 1.],\n          [1., 1., 1.],\n          [1., 1., 1.]]]))"
     },
     "execution_count": 36,
     "metadata": {},
     "output_type": "execute_result"
    }
   ],
   "source": [
    "t4 = torch.ones(3, 2, 3, 2) # \n",
    "t4, t4.ndim, t4.shape, t4.reshape((4, 3 , 3))"
   ],
   "metadata": {
    "collapsed": false,
    "ExecuteTime": {
     "end_time": "2024-05-28T09:36:13.148670Z",
     "start_time": "2024-05-28T09:36:13.130980Z"
    }
   },
   "id": "8cd9abb85bd25762"
  },
  {
   "cell_type": "code",
   "execution_count": 37,
   "outputs": [
    {
     "data": {
      "text/plain": "(4,\n torch.Size([1, 1, 3, 1]),\n tensor([[[[1.],\n           [1.],\n           [1.]]]]))"
     },
     "execution_count": 37,
     "metadata": {},
     "output_type": "execute_result"
    }
   ],
   "source": [
    "t5 = torch.ones(1, 1, 3, 1)\n",
    "t5.ndim, t5.shape, t5"
   ],
   "metadata": {
    "collapsed": false,
    "ExecuteTime": {
     "end_time": "2024-05-28T09:36:16.843131Z",
     "start_time": "2024-05-28T09:36:16.830674Z"
    }
   },
   "id": "fcc67d6700adbfa6"
  },
  {
   "cell_type": "code",
   "execution_count": 38,
   "outputs": [
    {
     "data": {
      "text/plain": "(tensor([[[[1.],\n           [1.],\n           [1.]]]]),\n tensor([1., 1., 1.]),\n torch.Size([3]))"
     },
     "execution_count": 38,
     "metadata": {},
     "output_type": "execute_result"
    }
   ],
   "source": [
    "# squeeze\n",
    "\n",
    "t5_squeezed = torch.squeeze(t5)\n",
    "t5, t5_squeezed, t5_squeezed.shape"
   ],
   "metadata": {
    "collapsed": false,
    "ExecuteTime": {
     "end_time": "2024-05-28T09:36:19.647825Z",
     "start_time": "2024-05-28T09:36:19.635497Z"
    }
   },
   "id": "c629a5926a5496f4"
  },
  {
   "cell_type": "code",
   "execution_count": 39,
   "outputs": [
    {
     "data": {
      "text/plain": "(tensor([[[[[[1., 1.]],\n \n            [[1., 1.]]],\n \n \n           [[[1., 1.]],\n \n            [[1., 1.]]],\n \n \n           [[[1., 1.]],\n \n            [[1., 1.]]]]]]),\n 6,\n torch.Size([1, 1, 3, 2, 1, 2]))"
     },
     "execution_count": 39,
     "metadata": {},
     "output_type": "execute_result"
    }
   ],
   "source": [
    "t6 = torch.ones(1,1,3,2,1,2)\n",
    "t6, t6.ndim, t6.shape"
   ],
   "metadata": {
    "collapsed": false,
    "ExecuteTime": {
     "end_time": "2024-05-28T09:36:31.838804Z",
     "start_time": "2024-05-28T09:36:31.826417Z"
    }
   },
   "id": "84b4cf113807252f"
  },
  {
   "cell_type": "code",
   "execution_count": 40,
   "outputs": [
    {
     "data": {
      "text/plain": "(tensor([[[1., 1.],\n          [1., 1.]],\n \n         [[1., 1.],\n          [1., 1.]],\n \n         [[1., 1.],\n          [1., 1.]]]),\n 3,\n torch.Size([3, 2, 2]))"
     },
     "execution_count": 40,
     "metadata": {},
     "output_type": "execute_result"
    }
   ],
   "source": [
    "torch.squeeze(t6), torch.squeeze(t6).ndim, torch.squeeze(t6).shape"
   ],
   "metadata": {
    "collapsed": false,
    "ExecuteTime": {
     "end_time": "2024-05-28T09:36:35.930263Z",
     "start_time": "2024-05-28T09:36:35.917420Z"
    }
   },
   "id": "22262c308f87a733"
  },
  {
   "cell_type": "code",
   "execution_count": 41,
   "outputs": [
    {
     "data": {
      "text/plain": "(tensor([[[[5, 5, 5]],\n \n          [[5, 5, 5]]]]),\n torch.Size([1, 2, 1, 3]))"
     },
     "execution_count": 41,
     "metadata": {},
     "output_type": "execute_result"
    }
   ],
   "source": [
    "# unsqueeze\n",
    "\n",
    "t7 = torch.full((1, 2, 1, 3), 5)\n",
    "t7, t7.shape\n",
    "\n"
   ],
   "metadata": {
    "collapsed": false,
    "ExecuteTime": {
     "end_time": "2024-05-28T09:36:38.765112Z",
     "start_time": "2024-05-28T09:36:38.754180Z"
    }
   },
   "id": "c08a6f5804941b33"
  },
  {
   "cell_type": "code",
   "execution_count": 42,
   "outputs": [
    {
     "data": {
      "text/plain": "(tensor([[[[[5, 5, 5]],\n \n           [[5, 5, 5]]]]]),\n torch.Size([1, 1, 2, 1, 3]))"
     },
     "execution_count": 42,
     "metadata": {},
     "output_type": "execute_result"
    }
   ],
   "source": [
    "t7_unsqueezed = torch.unsqueeze(t7, dim=0)\n",
    "t7_unsqueezed, t7_unsqueezed.shape"
   ],
   "metadata": {
    "collapsed": false,
    "ExecuteTime": {
     "end_time": "2024-05-28T09:36:41.288113Z",
     "start_time": "2024-05-28T09:36:41.275807Z"
    }
   },
   "id": "3225fcb7935c28c5"
  },
  {
   "cell_type": "code",
   "execution_count": 43,
   "outputs": [
    {
     "data": {
      "text/plain": "(torch.Size([1, 2, 1, 1, 3]), torch.Size([1, 2, 1, 3, 1]))"
     },
     "execution_count": 43,
     "metadata": {},
     "output_type": "execute_result"
    }
   ],
   "source": [
    "torch.unsqueeze(t7, dim=2).shape, torch.unsqueeze(t7, dim=4).shape"
   ],
   "metadata": {
    "collapsed": false,
    "ExecuteTime": {
     "end_time": "2024-05-28T09:36:44.467685Z",
     "start_time": "2024-05-28T09:36:44.456492Z"
    }
   },
   "id": "40382d89ec761ae0"
  },
  {
   "cell_type": "code",
   "execution_count": 39,
   "outputs": [],
   "source": [],
   "metadata": {
    "collapsed": false,
    "ExecuteTime": {
     "end_time": "2023-08-24T08:00:52.104326500Z",
     "start_time": "2023-08-24T08:00:51.371680300Z"
    }
   },
   "id": "7125db6a27e77985"
  }
 ],
 "metadata": {
  "kernelspec": {
   "display_name": "Python 3",
   "language": "python",
   "name": "python3"
  },
  "language_info": {
   "codemirror_mode": {
    "name": "ipython",
    "version": 2
   },
   "file_extension": ".py",
   "mimetype": "text/x-python",
   "name": "python",
   "nbconvert_exporter": "python",
   "pygments_lexer": "ipython2",
   "version": "2.7.6"
  }
 },
 "nbformat": 4,
 "nbformat_minor": 5
}
