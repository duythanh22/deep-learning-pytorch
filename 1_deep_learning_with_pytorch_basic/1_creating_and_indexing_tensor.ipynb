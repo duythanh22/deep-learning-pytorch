{
 "cells": [
  {
   "cell_type": "markdown",
   "source": [
    "# Tạo và lập chỉ mục tensor\n"
   ],
   "metadata": {
    "collapsed": false
   },
   "id": "717f4d2149fd0257"
  },
  {
   "cell_type": "code",
   "execution_count": 1,
   "outputs": [],
   "source": [
    "# Thêm thư viện\n",
    "\n",
    "import numpy as np\n",
    "import torch"
   ],
   "metadata": {
    "collapsed": false,
    "ExecuteTime": {
     "end_time": "2024-05-28T08:37:41.901243Z",
     "start_time": "2024-05-28T08:37:38.526921Z"
    }
   },
   "id": "357799d0187896"
  },
  {
   "cell_type": "code",
   "execution_count": 2,
   "outputs": [
    {
     "data": {
      "text/plain": "'2.2.1+cpu'"
     },
     "execution_count": 2,
     "metadata": {},
     "output_type": "execute_result"
    }
   ],
   "source": [
    "torch.__version__"
   ],
   "metadata": {
    "collapsed": false,
    "ExecuteTime": {
     "end_time": "2024-05-28T08:39:26.795103Z",
     "start_time": "2024-05-28T08:39:26.777360Z"
    }
   },
   "id": "6c16f5d5ac012fb1"
  },
  {
   "cell_type": "markdown",
   "source": [
    "## 1. Các kiểu tensor và chuyển đổi\n",
    "### 1.1. Tạo tensor"
   ],
   "metadata": {
    "collapsed": false
   },
   "id": "b2ce13201df66594"
  },
  {
   "cell_type": "code",
   "execution_count": 3,
   "outputs": [
    {
     "data": {
      "text/plain": "tensor([1, 2, 3])"
     },
     "execution_count": 3,
     "metadata": {},
     "output_type": "execute_result"
    }
   ],
   "source": [
    "# Sử dụng list\n",
    "t1 = torch.tensor([1, 2, 3])\n",
    "t1"
   ],
   "metadata": {
    "collapsed": false,
    "ExecuteTime": {
     "end_time": "2024-05-28T08:39:31.551219Z",
     "start_time": "2024-05-28T08:39:31.489264Z"
    }
   },
   "id": "4722b59303c7d985"
  },
  {
   "cell_type": "code",
   "execution_count": 4,
   "outputs": [
    {
     "data": {
      "text/plain": "tensor([1, 2, 3])"
     },
     "execution_count": 4,
     "metadata": {},
     "output_type": "execute_result"
    }
   ],
   "source": [
    "# Sử dụng tuple\n",
    "torch.tensor((1, 2,3 ))"
   ],
   "metadata": {
    "collapsed": false,
    "ExecuteTime": {
     "end_time": "2024-05-28T08:39:41.472283Z",
     "start_time": "2024-05-28T08:39:41.460812Z"
    }
   },
   "id": "55703751afab32be"
  },
  {
   "cell_type": "code",
   "execution_count": 5,
   "outputs": [
    {
     "data": {
      "text/plain": "tensor([1, 2, 3], dtype=torch.int32)"
     },
     "execution_count": 5,
     "metadata": {},
     "output_type": "execute_result"
    }
   ],
   "source": [
    "# Chỉ định kiểu dữ liệu cho tensor\n",
    "a = np.array((1, 2,3)) # int32\n",
    "t2 = torch.tensor(a)\n",
    "t2"
   ],
   "metadata": {
    "collapsed": false,
    "ExecuteTime": {
     "end_time": "2024-05-28T08:39:56.616808Z",
     "start_time": "2024-05-28T08:39:56.589440Z"
    }
   },
   "id": "b435c84464d4e589"
  },
  {
   "cell_type": "code",
   "execution_count": 6,
   "outputs": [
    {
     "data": {
      "text/plain": "(dtype('int32'), torch.int64, torch.int32)"
     },
     "execution_count": 6,
     "metadata": {},
     "output_type": "execute_result"
    }
   ],
   "source": [
    "a.dtype, t1.dtype, t2.dtype"
   ],
   "metadata": {
    "collapsed": false,
    "ExecuteTime": {
     "end_time": "2024-05-28T08:39:59.594695Z",
     "start_time": "2024-05-28T08:39:59.581805Z"
    }
   },
   "id": "22630e61d4bda7a1"
  },
  {
   "cell_type": "code",
   "execution_count": 7,
   "outputs": [
    {
     "data": {
      "text/plain": "(dtype('float64'), torch.float32, torch.float64)"
     },
     "execution_count": 7,
     "metadata": {},
     "output_type": "execute_result"
    }
   ],
   "source": [
    "# Kiểu float\n",
    "\n",
    "np.array([1.1, 1.2]).dtype, torch.tensor([1.1, 1.2]).dtype, torch.tensor((np.array([1.1, 1.2]))).dtype"
   ],
   "metadata": {
    "collapsed": false,
    "ExecuteTime": {
     "end_time": "2024-05-28T08:40:21.885231Z",
     "start_time": "2024-05-28T08:40:21.874653Z"
    }
   },
   "id": "30fb451172fa164c"
  },
  {
   "cell_type": "code",
   "execution_count": 8,
   "outputs": [
    {
     "data": {
      "text/plain": "(tensor([ True, False]), torch.bool)"
     },
     "execution_count": 8,
     "metadata": {},
     "output_type": "execute_result"
    }
   ],
   "source": [
    "# Kiểu boolean\n",
    "t3 = torch.tensor([True, False])\n",
    "t3, t3.dtype"
   ],
   "metadata": {
    "collapsed": false,
    "ExecuteTime": {
     "end_time": "2024-05-28T08:40:27.543508Z",
     "start_time": "2024-05-28T08:40:27.532600Z"
    }
   },
   "id": "389deec7e2bed12f"
  },
  {
   "cell_type": "code",
   "execution_count": 9,
   "outputs": [
    {
     "data": {
      "text/plain": "(tensor([1.+2.j, 2.+1.j]), torch.complex64)"
     },
     "execution_count": 9,
     "metadata": {},
     "output_type": "execute_result"
    }
   ],
   "source": [
    "# Kiểu complex (số phức)\n",
    "t4 = torch.tensor([1+2j, 2+1j])\n",
    "t4, t4.dtype"
   ],
   "metadata": {
    "collapsed": false,
    "ExecuteTime": {
     "end_time": "2024-05-28T08:42:00.898870Z",
     "start_time": "2024-05-28T08:42:00.823316Z"
    }
   },
   "id": "4ebebf736b22c76"
  },
  {
   "cell_type": "code",
   "execution_count": 10,
   "outputs": [
    {
     "data": {
      "text/plain": "tensor([2., 4., 6.])"
     },
     "execution_count": 10,
     "metadata": {},
     "output_type": "execute_result"
    }
   ],
   "source": [
    "# Chỉ định kiểu dữ liệu cho tensor\n",
    "torch.tensor([2, 4, 6], dtype=torch.float32)"
   ],
   "metadata": {
    "collapsed": false,
    "ExecuteTime": {
     "end_time": "2024-05-28T08:42:21.697813Z",
     "start_time": "2024-05-28T08:42:21.685151Z"
    }
   },
   "id": "4a2ff16f5e90aca7"
  },
  {
   "cell_type": "code",
   "execution_count": 11,
   "outputs": [
    {
     "data": {
      "text/plain": "(tensor([2.0000, 1.1000]), torch.float32)"
     },
     "execution_count": 11,
     "metadata": {},
     "output_type": "execute_result"
    }
   ],
   "source": [
    "t5 = torch.tensor([2, 1.1]) # tự xác định\n",
    "t5, t5.dtype"
   ],
   "metadata": {
    "collapsed": false,
    "ExecuteTime": {
     "end_time": "2024-05-28T08:42:31.885379Z",
     "start_time": "2024-05-28T08:42:31.843786Z"
    }
   },
   "id": "9f425907d6975986"
  },
  {
   "cell_type": "code",
   "execution_count": 12,
   "outputs": [
    {
     "data": {
      "text/plain": "(tensor([3.0000, 1.0000, 3.1400]), torch.float32)"
     },
     "execution_count": 12,
     "metadata": {},
     "output_type": "execute_result"
    }
   ],
   "source": [
    "t6 = torch.tensor([3, True, 3.14])\n",
    "t6, t6.dtype"
   ],
   "metadata": {
    "collapsed": false,
    "ExecuteTime": {
     "end_time": "2024-05-28T08:42:34.769141Z",
     "start_time": "2024-05-28T08:42:34.757665Z"
    }
   },
   "id": "ee07dbb213166f75"
  },
  {
   "cell_type": "code",
   "execution_count": 13,
   "outputs": [
    {
     "data": {
      "text/plain": "(tensor([1, 2, 3]),\n tensor([1., 2., 3.], dtype=torch.float64),\n tensor([1, 2, 3], dtype=torch.int16),\n tensor([1, 2, 3]))"
     },
     "execution_count": 13,
     "metadata": {},
     "output_type": "execute_result"
    }
   ],
   "source": [
    "# thay đổi kiểu tensor mà không làm thay đổi kiểu tensor ban đầu\n",
    "# tạo ra các tensor mới\n",
    "t1, t1.double(), t1.short(), t1"
   ],
   "metadata": {
    "collapsed": false,
    "ExecuteTime": {
     "end_time": "2024-05-28T08:45:10.413961Z",
     "start_time": "2024-05-28T08:45:10.395514Z"
    }
   },
   "id": "d56b4ab39a8581c3"
  },
  {
   "cell_type": "code",
   "execution_count": 18,
   "outputs": [
    {
     "data": {
      "text/plain": "torch.float32"
     },
     "execution_count": 18,
     "metadata": {},
     "output_type": "execute_result"
    }
   ],
   "source": [
    "t1 = t1.float() # gán lại kiểu dữ liệu\n",
    "t1.dtype"
   ],
   "metadata": {
    "collapsed": false,
    "ExecuteTime": {
     "end_time": "2024-05-28T08:46:38.626174Z",
     "start_time": "2024-05-28T08:46:38.616026Z"
    }
   },
   "id": "e9e3a8c5d34b6872"
  },
  {
   "cell_type": "markdown",
   "source": [
    "## 2. Kích thước và biến đổi tensor\n",
    "### 2.1. Kích thước và ..."
   ],
   "metadata": {
    "collapsed": false
   },
   "id": "2a5ab0c51f05dacd"
  },
  {
   "cell_type": "code",
   "outputs": [
    {
     "data": {
      "text/plain": "tensor([1., 2., 3.])"
     },
     "execution_count": 20,
     "metadata": {},
     "output_type": "execute_result"
    }
   ],
   "source": [
    "t1"
   ],
   "metadata": {
    "collapsed": false,
    "ExecuteTime": {
     "end_time": "2024-05-28T08:48:47.728303Z",
     "start_time": "2024-05-28T08:48:47.720106Z"
    }
   },
   "id": "3b2b4f7fbd70ada5",
   "execution_count": 20
  },
  {
   "cell_type": "code",
   "execution_count": 19,
   "outputs": [
    {
     "data": {
      "text/plain": "(1, torch.Size([3]), torch.Size([3]))"
     },
     "execution_count": 19,
     "metadata": {},
     "output_type": "execute_result"
    }
   ],
   "source": [
    "# kiểm tra kích thước, hình dạng, tổng phần tử của tensor\n",
    "t1.ndim, t1.shape, t1.size()"
   ],
   "metadata": {
    "collapsed": false,
    "ExecuteTime": {
     "end_time": "2024-05-28T08:48:18.015381Z",
     "start_time": "2024-05-28T08:48:18.004560Z"
    }
   },
   "id": "43eeccfe5c9b0b28"
  },
  {
   "cell_type": "code",
   "execution_count": 21,
   "outputs": [
    {
     "data": {
      "text/plain": "(3, 3)"
     },
     "execution_count": 21,
     "metadata": {},
     "output_type": "execute_result"
    }
   ],
   "source": [
    "len(t1), t1.numel() # trả về số lượng phần tử"
   ],
   "metadata": {
    "collapsed": false,
    "ExecuteTime": {
     "end_time": "2024-05-28T08:49:03.712838Z",
     "start_time": "2024-05-28T08:49:03.702048Z"
    }
   },
   "id": "59a762d3de0392d5"
  },
  {
   "cell_type": "code",
   "execution_count": 22,
   "outputs": [
    {
     "data": {
      "text/plain": "tensor([[1, 2, 3],\n        [5, 6, 7]])"
     },
     "execution_count": 22,
     "metadata": {},
     "output_type": "execute_result"
    }
   ],
   "source": [
    "t7 = torch.tensor([[1, 2, 3], [5, 6, 7]])\n",
    "t7"
   ],
   "metadata": {
    "collapsed": false,
    "ExecuteTime": {
     "end_time": "2024-05-28T08:49:06.585212Z",
     "start_time": "2024-05-28T08:49:06.571439Z"
    }
   },
   "id": "6f912a656032b4a5"
  },
  {
   "cell_type": "code",
   "execution_count": 23,
   "outputs": [
    {
     "data": {
      "text/plain": "(2, torch.Size([2, 3]), torch.Size([2, 3]), 6)"
     },
     "execution_count": 23,
     "metadata": {},
     "output_type": "execute_result"
    }
   ],
   "source": [
    "t7.ndim, t7.shape, t7.size(), t7.numel()"
   ],
   "metadata": {
    "collapsed": false,
    "ExecuteTime": {
     "end_time": "2024-05-28T08:49:12.000633Z",
     "start_time": "2024-05-28T08:49:11.990872Z"
    }
   },
   "id": "ddea3dbf6800259"
  },
  {
   "cell_type": "code",
   "execution_count": 24,
   "outputs": [
    {
     "data": {
      "text/plain": "(0, torch.Size([]), 1)"
     },
     "execution_count": 24,
     "metadata": {},
     "output_type": "execute_result"
    }
   ],
   "source": [
    "# Tensor không chiều\n",
    "\n",
    "t8 = torch.tensor(1)\n",
    "t8.ndim, t8.shape, t8.numel()"
   ],
   "metadata": {
    "collapsed": false,
    "ExecuteTime": {
     "end_time": "2024-05-28T08:50:34.070624Z",
     "start_time": "2024-05-28T08:50:34.059116Z"
    }
   },
   "id": "e2686c5a4fb268d7"
  },
  {
   "cell_type": "code",
   "execution_count": 25,
   "outputs": [
    {
     "data": {
      "text/plain": "(0, torch.Size([]), 1)"
     },
     "execution_count": 25,
     "metadata": {},
     "output_type": "execute_result"
    }
   ],
   "source": [
    "# Tensor 1 chiều\n",
    "t9 = torch.tensor([1])\n",
    "t8.ndim, t8.shape, t8.numel()"
   ],
   "metadata": {
    "collapsed": false,
    "ExecuteTime": {
     "end_time": "2024-05-28T08:50:43.286829Z",
     "start_time": "2024-05-28T08:50:43.277080Z"
    }
   },
   "id": "7ee0b4f70d8a3997"
  },
  {
   "cell_type": "code",
   "execution_count": 30,
   "outputs": [
    {
     "data": {
      "text/plain": "(tensor([[[1, 2, 3],\n          [4, 5, 6]],\n \n         [[3, 3, 4],\n          [1, 2, 6]]], dtype=torch.int32),\n 3,\n torch.Size([2, 2, 3]),\n 12)"
     },
     "execution_count": 30,
     "metadata": {},
     "output_type": "execute_result"
    }
   ],
   "source": [
    "# Tensor nhiều chiều\n",
    "\n",
    "a1 = np.array([[1,2 ,3], [4, 5, 6]])\n",
    "a2 = np.array([[3, 3, 4], [1, 2, 6]])\n",
    "t10 = torch.tensor([a1, a2])\n",
    "t10, t10.ndim, t10.shape, t10.numel()"
   ],
   "metadata": {
    "collapsed": false,
    "ExecuteTime": {
     "end_time": "2024-05-28T08:55:27.520439Z",
     "start_time": "2024-05-28T08:55:27.505051Z"
    }
   },
   "id": "1defc299b5e086dd"
  },
  {
   "cell_type": "markdown",
   "source": [
    "### 2.2. Biến đổi tensor"
   ],
   "metadata": {
    "collapsed": false
   },
   "id": "251f08a8275a9bf7"
  },
  {
   "cell_type": "code",
   "execution_count": 31,
   "outputs": [
    {
     "data": {
      "text/plain": "(tensor([[[1, 2, 3],\n          [4, 5, 6]],\n \n         [[3, 3, 4],\n          [1, 2, 6]]], dtype=torch.int32),\n tensor([1, 2, 3, 4, 5, 6, 3, 3, 4, 1, 2, 6], dtype=torch.int32))"
     },
     "execution_count": 31,
     "metadata": {},
     "output_type": "execute_result"
    }
   ],
   "source": [
    "# Làm phẳng tensor\n",
    "# flatten: biến đổi tensor nhiều chiều thành mảng 1 chiều\n",
    "\n",
    "t10, t10.flatten()"
   ],
   "metadata": {
    "collapsed": false,
    "ExecuteTime": {
     "end_time": "2024-05-28T08:56:18.908600Z",
     "start_time": "2024-05-28T08:56:18.893801Z"
    }
   },
   "id": "5435fecaac41c17d"
  },
  {
   "cell_type": "code",
   "execution_count": 32,
   "outputs": [
    {
     "data": {
      "text/plain": "(tensor(1), tensor([1]), 1)"
     },
     "execution_count": 32,
     "metadata": {},
     "output_type": "execute_result"
    }
   ],
   "source": [
    "t8, t8.flatten(), t8.flatten().ndim"
   ],
   "metadata": {
    "collapsed": false,
    "ExecuteTime": {
     "end_time": "2024-05-28T08:56:25.635708Z",
     "start_time": "2024-05-28T08:56:25.624726Z"
    }
   },
   "id": "faeddaf96931faee"
  },
  {
   "cell_type": "code",
   "execution_count": 33,
   "outputs": [],
   "source": [
    "# reshpae: thay đổi dạng tensor\n",
    "\n",
    "t11 = torch.tensor([1, 2])"
   ],
   "metadata": {
    "collapsed": false,
    "ExecuteTime": {
     "end_time": "2024-05-28T08:56:30.781791Z",
     "start_time": "2024-05-28T08:56:30.775488Z"
    }
   },
   "id": "5b814ccd61ed35a9"
  },
  {
   "cell_type": "code",
   "execution_count": 34,
   "outputs": [
    {
     "data": {
      "text/plain": "(tensor([1, 2]),\n tensor([[1],\n         [2]]),\n torch.Size([3]),\n torch.Size([2, 1]),\n 1,\n 2)"
     },
     "execution_count": 34,
     "metadata": {},
     "output_type": "execute_result"
    }
   ],
   "source": [
    "t11, t11.reshape(2,1), t1.shape, t11.reshape(2, 1).shape, t11.ndim, t11.reshape(2, 1).ndim"
   ],
   "metadata": {
    "collapsed": false,
    "ExecuteTime": {
     "end_time": "2024-05-28T08:56:32.363691Z",
     "start_time": "2024-05-28T08:56:32.349401Z"
    }
   },
   "id": "dfd010e67014708f"
  },
  {
   "cell_type": "code",
   "execution_count": 35,
   "outputs": [
    {
     "data": {
      "text/plain": "(tensor([1, 2]), tensor([1, 2]), tensor([1, 2]), 1)"
     },
     "execution_count": 35,
     "metadata": {},
     "output_type": "execute_result"
    }
   ],
   "source": [
    "# Chuyển đổi sang tensor 1 chiều\n",
    "t11, t11.reshape(2), t11.reshape(2, ), t11.reshape(2).ndim"
   ],
   "metadata": {
    "collapsed": false,
    "ExecuteTime": {
     "end_time": "2024-05-28T08:56:40.908066Z",
     "start_time": "2024-05-28T08:56:40.897835Z"
    }
   },
   "id": "73dff53f6a8b9df"
  },
  {
   "cell_type": "code",
   "execution_count": 37,
   "outputs": [
    {
     "data": {
      "text/plain": "(tensor([1, 2]),\n tensor([[1],\n         [2]]),\n 2)"
     },
     "execution_count": 37,
     "metadata": {},
     "output_type": "execute_result"
    }
   ],
   "source": [
    "# Chuyển đổi sang tensor 2 chiều\n",
    "t11, t11.reshape(2, 1), t11.reshape(2, 1).ndim"
   ],
   "metadata": {
    "collapsed": false,
    "ExecuteTime": {
     "end_time": "2024-05-28T08:56:49.143029Z",
     "start_time": "2024-05-28T08:56:49.129601Z"
    }
   },
   "id": "914f53c5b5a00667"
  },
  {
   "cell_type": "code",
   "execution_count": 38,
   "outputs": [
    {
     "data": {
      "text/plain": "(tensor([1, 2]),\n tensor([[[1, 2]]]),\n torch.Size([1, 1, 2]),\n tensor([[[1],\n          [2]]]),\n 3)"
     },
     "execution_count": 38,
     "metadata": {},
     "output_type": "execute_result"
    }
   ],
   "source": [
    "# Chuyển đổi sang tensor 3 chiều\n",
    "\n",
    "t11, t11.reshape(1, 1, 2), t11.reshape(1,1,2).shape, t11.reshape(1,2,1), t11.reshape(1,2, 1).ndim"
   ],
   "metadata": {
    "collapsed": false,
    "ExecuteTime": {
     "end_time": "2024-05-28T08:57:07.184486Z",
     "start_time": "2024-05-28T08:57:07.170017Z"
    }
   },
   "id": "e0bb9be4ba692be8"
  },
  {
   "cell_type": "code",
   "execution_count": 28,
   "outputs": [
    {
     "data": {
      "text/plain": "tensor([1, 2, 3, 4, 5, 6, 3, 3, 4, 1, 2, 6], dtype=torch.int32)"
     },
     "execution_count": 28,
     "metadata": {},
     "output_type": "execute_result"
    }
   ],
   "source": [
    "# Chuyển tensor về mảng 1 chiều\n",
    "t10.reshape(-1)"
   ],
   "metadata": {
    "collapsed": false,
    "ExecuteTime": {
     "end_time": "2023-08-24T07:58:22.600451400Z",
     "start_time": "2023-08-24T07:58:21.734176500Z"
    }
   },
   "id": "363ed27af8eb61be"
  },
  {
   "cell_type": "markdown",
   "source": [
    "### 3. Các cách tạo tensor khác"
   ],
   "metadata": {
    "collapsed": false
   },
   "id": "e2e320cd6c5f9b57"
  },
  {
   "cell_type": "code",
   "execution_count": 39,
   "outputs": [
    {
     "data": {
      "text/plain": "tensor([[0., 0., 0.],\n        [0., 0., 0.],\n        [0., 0., 0.]])"
     },
     "execution_count": 39,
     "metadata": {},
     "output_type": "execute_result"
    }
   ],
   "source": [
    "# Tensor với các giá trị 0\n",
    "torch.zeros([3, 3])"
   ],
   "metadata": {
    "collapsed": false,
    "ExecuteTime": {
     "end_time": "2024-05-28T08:58:32.695349Z",
     "start_time": "2024-05-28T08:58:32.680128Z"
    }
   },
   "id": "a683aa6c27020c80"
  },
  {
   "cell_type": "code",
   "execution_count": 40,
   "outputs": [
    {
     "data": {
      "text/plain": "tensor([[[1., 1., 1.],\n         [1., 1., 1.]],\n\n        [[1., 1., 1.],\n         [1., 1., 1.]]])"
     },
     "execution_count": 40,
     "metadata": {},
     "output_type": "execute_result"
    }
   ],
   "source": [
    "# Tensor với các giá trị 1\n",
    "torch.ones([2, 2, 3])\n"
   ],
   "metadata": {
    "collapsed": false,
    "ExecuteTime": {
     "end_time": "2024-05-28T08:58:41.133171Z",
     "start_time": "2024-05-28T08:58:41.120562Z"
    }
   },
   "id": "1a0ec9036bfbe6a2"
  },
  {
   "cell_type": "code",
   "execution_count": 41,
   "outputs": [
    {
     "data": {
      "text/plain": "tensor([[1., 0., 0., 0., 0.],\n        [0., 1., 0., 0., 0.],\n        [0., 0., 1., 0., 0.],\n        [0., 0., 0., 1., 0.],\n        [0., 0., 0., 0., 1.]])"
     },
     "execution_count": 41,
     "metadata": {},
     "output_type": "execute_result"
    }
   ],
   "source": [
    "# Tensor dạng ma trận đơn vị\n",
    "torch.eye(5)"
   ],
   "metadata": {
    "collapsed": false,
    "ExecuteTime": {
     "end_time": "2024-05-28T08:58:46.513941Z",
     "start_time": "2024-05-28T08:58:46.495994Z"
    }
   },
   "id": "3f891d27c9672bbc"
  },
  {
   "cell_type": "code",
   "execution_count": 42,
   "outputs": [
    {
     "data": {
      "text/plain": "(tensor([1., 2., 3.]),\n tensor([[1., 0., 0.],\n         [0., 2., 0.],\n         [0., 0., 3.]]))"
     },
     "execution_count": 42,
     "metadata": {},
     "output_type": "execute_result"
    }
   ],
   "source": [
    "# Tạo tensor dạng ma trận đường chéo\n",
    "\n",
    "t1, torch.diag(t1)"
   ],
   "metadata": {
    "collapsed": false,
    "ExecuteTime": {
     "end_time": "2024-05-28T08:58:52.850792Z",
     "start_time": "2024-05-28T08:58:52.838049Z"
    }
   },
   "id": "10df5c6f116a1eeb"
  },
  {
   "cell_type": "code",
   "execution_count": 43,
   "outputs": [
    {
     "data": {
      "text/plain": "tensor([[0.2380, 0.7552],\n        [0.8552, 0.1346]])"
     },
     "execution_count": 43,
     "metadata": {},
     "output_type": "execute_result"
    }
   ],
   "source": [
    "# rand: tensor có các phần tử trong [0, 1]\n",
    "torch.rand([2, 2])"
   ],
   "metadata": {
    "collapsed": false,
    "ExecuteTime": {
     "end_time": "2024-05-28T08:59:25.134339Z",
     "start_time": "2024-05-28T08:59:25.119508Z"
    }
   },
   "id": "956cc72ca24a293e"
  },
  {
   "cell_type": "code",
   "execution_count": 44,
   "outputs": [
    {
     "data": {
      "text/plain": "tensor([[-1.3310,  2.5648, -1.4446],\n        [ 0.2783, -1.2146, -0.9686],\n        [-0.5849,  2.2631, -2.3142]])"
     },
     "execution_count": 44,
     "metadata": {},
     "output_type": "execute_result"
    }
   ],
   "source": [
    "# randn: tensor có các phần tử theo phân phối chuẩn\n",
    "torch.randn([3, 3])"
   ],
   "metadata": {
    "collapsed": false,
    "ExecuteTime": {
     "end_time": "2024-05-28T08:59:27.637703Z",
     "start_time": "2024-05-28T08:59:27.622973Z"
    }
   },
   "id": "1f15412b91fb4d7"
  },
  {
   "cell_type": "markdown",
   "source": [
    "Phân phối chuẩn:$\\text{out}_{i} \\sim \\mathcal{N}(0, 1)$"
   ],
   "metadata": {
    "collapsed": false
   },
   "id": "2ea22a8065e75310"
  },
  {
   "cell_type": "code",
   "execution_count": 45,
   "outputs": [
    {
     "data": {
      "text/plain": "tensor([[0.4355, 6.1270, 3.9212],\n        [1.8458, 3.1176, 3.7194]])"
     },
     "execution_count": 45,
     "metadata": {},
     "output_type": "execute_result"
    }
   ],
   "source": [
    "# normal: theo phân phối được chỉ định `normal(mean, std, ...)`\n",
    "torch.normal(2, 3, size=(2, 3))"
   ],
   "metadata": {
    "collapsed": false,
    "ExecuteTime": {
     "end_time": "2024-05-28T08:59:37.933800Z",
     "start_time": "2024-05-28T08:59:37.920733Z"
    }
   },
   "id": "6b016f3454c50680"
  },
  {
   "cell_type": "code",
   "execution_count": 46,
   "outputs": [
    {
     "data": {
      "text/plain": "tensor([[11, 10,  7,  4],\n        [13, 11, 14,  8],\n        [ 6, 10,  5, 10]])"
     },
     "execution_count": 46,
     "metadata": {},
     "output_type": "execute_result"
    }
   ],
   "source": [
    "# randint: lấy ngẫu nhiên trong đoạn số nguyên\n",
    "torch.randint(3, 15, size=(3, 4))"
   ],
   "metadata": {
    "collapsed": false,
    "ExecuteTime": {
     "end_time": "2024-05-28T08:59:42.718281Z",
     "start_time": "2024-05-28T08:59:42.705325Z"
    }
   },
   "id": "c21b6994b4a2146f"
  },
  {
   "cell_type": "code",
   "execution_count": 47,
   "outputs": [
    {
     "data": {
      "text/plain": "(tensor([0, 1, 2, 3, 4]), tensor([ 3,  6,  9, 12]))"
     },
     "execution_count": 47,
     "metadata": {},
     "output_type": "execute_result"
    }
   ],
   "source": [
    "# Tạo theo một trình tự\n",
    "torch.arange(5), torch.arange(3, 15, 3)"
   ],
   "metadata": {
    "collapsed": false,
    "ExecuteTime": {
     "end_time": "2024-05-28T08:59:50.970081Z",
     "start_time": "2024-05-28T08:59:50.955009Z"
    }
   },
   "id": "859b550ec666f1eb"
  },
  {
   "cell_type": "code",
   "execution_count": 48,
   "outputs": [
    {
     "data": {
      "text/plain": "tensor([ 3.0000,  7.2500, 11.5000, 15.7500, 20.0000])"
     },
     "execution_count": 48,
     "metadata": {},
     "output_type": "execute_result"
    }
   ],
   "source": [
    "torch.linspace(3, 20, 5)"
   ],
   "metadata": {
    "collapsed": false,
    "ExecuteTime": {
     "end_time": "2024-05-28T09:02:14.741778Z",
     "start_time": "2024-05-28T09:02:14.726758Z"
    }
   },
   "id": "ea198ba14c67c856"
  },
  {
   "cell_type": "code",
   "execution_count": 50,
   "outputs": [
    {
     "data": {
      "text/plain": "tensor([[0., 0., 0.],\n        [0., 0., 0.],\n        [0., 0., 0.],\n        [0., 0., 0.]])"
     },
     "execution_count": 50,
     "metadata": {},
     "output_type": "execute_result"
    }
   ],
   "source": [
    "# Tạo tensor với các giá trị chưa khởi tạo vào kích thước được chỉ định\n",
    "torch.empty(4, 3)"
   ],
   "metadata": {
    "collapsed": false,
    "ExecuteTime": {
     "end_time": "2024-05-28T09:11:50.064513Z",
     "start_time": "2024-05-28T09:11:50.053777Z"
    }
   },
   "id": "45e2d10439d7f12"
  },
  {
   "cell_type": "code",
   "execution_count": 51,
   "outputs": [
    {
     "data": {
      "text/plain": "tensor([[22, 22, 22],\n        [22, 22, 22],\n        [22, 22, 22]])"
     },
     "execution_count": 51,
     "metadata": {},
     "output_type": "execute_result"
    }
   ],
   "source": [
    "# Điền giá trị vào tensor có kích thước được chỉ định\n",
    "torch.full((3, 3), 22)"
   ],
   "metadata": {
    "collapsed": false,
    "ExecuteTime": {
     "end_time": "2024-05-28T09:11:59.163600Z",
     "start_time": "2024-05-28T09:11:59.151451Z"
    }
   },
   "id": "cf7930023fa3084c"
  },
  {
   "cell_type": "code",
   "execution_count": 52,
   "outputs": [
    {
     "data": {
      "text/plain": "(tensor([1., 2., 3.]), tensor([5., 5., 5.]))"
     },
     "execution_count": 52,
     "metadata": {},
     "output_type": "execute_result"
    }
   ],
   "source": [
    "# Tạo tensor kích thước tương tự tensor chỉ định\n",
    "t1, torch.full_like(t1, 5)"
   ],
   "metadata": {
    "collapsed": false,
    "ExecuteTime": {
     "end_time": "2024-05-28T09:12:04.615198Z",
     "start_time": "2024-05-28T09:12:04.604095Z"
    }
   },
   "id": "3097f4c2e663c3a7"
  },
  {
   "cell_type": "code",
   "execution_count": 53,
   "outputs": [
    {
     "data": {
      "text/plain": "(tensor([1., 2., 3.]),\n tensor([0.2170, 0.0411, 0.3791]),\n tensor([[[1, 2, 3],\n          [4, 5, 6]],\n \n         [[3, 3, 4],\n          [1, 2, 6]]], dtype=torch.int32),\n tensor([[[17, 13, 20],\n          [ 3, 20,  9]],\n \n         [[18, 11,  4],\n          [14, 11,  6]]], dtype=torch.int32))"
     },
     "execution_count": 53,
     "metadata": {},
     "output_type": "execute_result"
    }
   ],
   "source": [
    "t1 = t1.float() # Đưa về đúng kiểu dữ liệu\n",
    "t1, torch.rand_like(t1), t10, torch.randint_like(t10, 3, 22)"
   ],
   "metadata": {
    "collapsed": false,
    "ExecuteTime": {
     "end_time": "2024-05-28T09:12:10.225237Z",
     "start_time": "2024-05-28T09:12:10.202676Z"
    }
   },
   "id": "9849c468679bffd"
  },
  {
   "cell_type": "code",
   "execution_count": 54,
   "outputs": [
    {
     "data": {
      "text/plain": "(tensor([2.0000, 1.1000]),\n tensor([0., 0.]),\n tensor([2.0000, 1.1000]),\n tensor([1., 1.]))"
     },
     "execution_count": 54,
     "metadata": {},
     "output_type": "execute_result"
    }
   ],
   "source": [
    "t5, torch.zeros_like(t5), t5, torch.ones_like(t5)"
   ],
   "metadata": {
    "collapsed": false,
    "ExecuteTime": {
     "end_time": "2024-05-28T09:12:15.134399Z",
     "start_time": "2024-05-28T09:12:15.117802Z"
    }
   },
   "id": "86a70efd7e40a052"
  },
  {
   "cell_type": "markdown",
   "source": [
    "### 4. Chuyển từ tensor sang các kiểu dữ liệu khác"
   ],
   "metadata": {
    "collapsed": false
   },
   "id": "19557b3a136fbd8b"
  },
  {
   "cell_type": "code",
   "execution_count": 55,
   "outputs": [
    {
     "data": {
      "text/plain": "(tensor([1., 2., 3.]),\n array([1., 2., 3.], dtype=float32),\n array([1., 2., 3.], dtype=float32))"
     },
     "execution_count": 55,
     "metadata": {},
     "output_type": "execute_result"
    }
   ],
   "source": [
    "# Chuyển tensor về mảng\n",
    "t1, t1.numpy(), np.array(t1)"
   ],
   "metadata": {
    "collapsed": false,
    "ExecuteTime": {
     "end_time": "2024-05-28T09:13:56.350088Z",
     "start_time": "2024-05-28T09:13:56.331262Z"
    }
   },
   "id": "f3eec26dc6780e60"
  },
  {
   "cell_type": "code",
   "execution_count": 56,
   "outputs": [
    {
     "data": {
      "text/plain": "([1.0, 2.0, 3.0], [tensor(1.), tensor(2.), tensor(3.)])"
     },
     "execution_count": 56,
     "metadata": {},
     "output_type": "execute_result"
    }
   ],
   "source": [
    "# Chuyển tensor thành 1 list\n",
    "\n",
    "t1.tolist(), list(t1)"
   ],
   "metadata": {
    "collapsed": false,
    "ExecuteTime": {
     "end_time": "2024-05-28T09:14:02.772610Z",
     "start_time": "2024-05-28T09:14:02.758019Z"
    }
   },
   "id": "dd3e2ab3e176f169"
  },
  {
   "cell_type": "code",
   "execution_count": 57,
   "outputs": [
    {
     "data": {
      "text/plain": "(tensor(1), 1)"
     },
     "execution_count": 57,
     "metadata": {},
     "output_type": "execute_result"
    }
   ],
   "source": [
    "# Chuyển đổi tensor 0 chiều về giá trị\n",
    "t8, t8.item()"
   ],
   "metadata": {
    "collapsed": false,
    "ExecuteTime": {
     "end_time": "2024-05-28T09:14:12.348762Z",
     "start_time": "2024-05-28T09:14:12.334456Z"
    }
   },
   "id": "62afddc0d74bddfa"
  },
  {
   "cell_type": "markdown",
   "source": [
    "### 5. Tạo các bản sao\n",
    "- Shallow copy là quá trình sao chép tham chiếu đến vùng nhớ của tensor gốc. Khi thực hiện shallow copy, ta tạo ra một tensor mới có cùng dữ liệu với tensor gốc, nhưng các thay đổi trong tensor mới sẽ được phản ánh trực tiếp trên tensor gốc. \n",
    "\n",
    "- Deep copy là quá trình sao chép một bản sao hoàn toàn mới của tensor, bao gồm cả dữ liệu và kích thước. Khi thực hiện deep copy, ta tạo ra một tensor mới, hoàn toàn độc lập với tensor gốc. Các thay đổi trong tensor mới sẽ không ảnh hưởng đến tensor gốc và ngược lại. "
   ],
   "metadata": {
    "collapsed": false
   },
   "id": "4ba70be94197b7cd"
  },
  {
   "cell_type": "code",
   "execution_count": 58,
   "outputs": [
    {
     "data": {
      "text/plain": "(tensor([ 3,  6,  9, 12]), tensor([ 3,  6,  9, 12]), tensor(6))"
     },
     "execution_count": 58,
     "metadata": {},
     "output_type": "execute_result"
    }
   ],
   "source": [
    "t12 = torch.arange(3, 15, 3)\n",
    "t13 = t12 # cả 2 cùng trỏ đến một đối tượng\n",
    "t12, t13, t12[1]"
   ],
   "metadata": {
    "collapsed": false,
    "ExecuteTime": {
     "end_time": "2024-05-28T09:16:22.763819Z",
     "start_time": "2024-05-28T09:16:22.750615Z"
    }
   },
   "id": "2cc4b7cdaf6f28fa"
  },
  {
   "cell_type": "code",
   "execution_count": 59,
   "outputs": [
    {
     "data": {
      "text/plain": "(tensor([ 3, 22,  9, 12]), tensor([ 3, 22,  9, 12]))"
     },
     "execution_count": 59,
     "metadata": {},
     "output_type": "execute_result"
    }
   ],
   "source": [
    "t12[1] = 22\n",
    "t12, t13"
   ],
   "metadata": {
    "collapsed": false,
    "ExecuteTime": {
     "end_time": "2024-05-28T09:16:35.952970Z",
     "start_time": "2024-05-28T09:16:35.938673Z"
    }
   },
   "id": "fc0cf88e98813a2e"
  },
  {
   "cell_type": "code",
   "execution_count": 60,
   "outputs": [
    {
     "data": {
      "text/plain": "(tensor([ 3, 22,  9,  0]), tensor([ 3, 22,  9,  0]))"
     },
     "execution_count": 60,
     "metadata": {},
     "output_type": "execute_result"
    }
   ],
   "source": [
    "t13[3] = 0\n",
    "t12, t13"
   ],
   "metadata": {
    "collapsed": false,
    "ExecuteTime": {
     "end_time": "2024-05-28T09:17:43.263424Z",
     "start_time": "2024-05-28T09:17:43.245491Z"
    }
   },
   "id": "200d8459d5cf2ed9"
  },
  {
   "cell_type": "code",
   "execution_count": 61,
   "outputs": [
    {
     "data": {
      "text/plain": "(tensor([ 3, 22,  9,  0]), tensor([ 3, 22,  9,  0]), tensor([ 3, 22,  9,  0]))"
     },
     "execution_count": 61,
     "metadata": {},
     "output_type": "execute_result"
    }
   ],
   "source": [
    "# \n",
    "t14 = t12.clone() # t14 được trỏ đến đối tượng mới\n",
    "t12, t13, t14"
   ],
   "metadata": {
    "collapsed": false,
    "ExecuteTime": {
     "end_time": "2024-05-28T09:17:47.598668Z",
     "start_time": "2024-05-28T09:17:47.584702Z"
    }
   },
   "id": "7c4a9252c9d65c67"
  },
  {
   "cell_type": "code",
   "execution_count": 63,
   "outputs": [
    {
     "data": {
      "text/plain": "(tensor([99, 22,  9,  0]), tensor([99, 22,  9,  0]), tensor([ 3, 22,  9,  0]))"
     },
     "execution_count": 63,
     "metadata": {},
     "output_type": "execute_result"
    }
   ],
   "source": [
    "t12[0] = 99\n",
    "t12, t13, t14"
   ],
   "metadata": {
    "collapsed": false,
    "ExecuteTime": {
     "end_time": "2024-05-28T09:18:08.119967Z",
     "start_time": "2024-05-28T09:18:08.107284Z"
    }
   },
   "id": "c21127d8c9fc2189"
  },
  {
   "cell_type": "code",
   "execution_count": 64,
   "outputs": [
    {
     "data": {
      "text/plain": "(tensor([99, 22,  9,  0]), tensor([99, 22,  9,  0]), tensor([ 3, 22, 15,  0]))"
     },
     "execution_count": 64,
     "metadata": {},
     "output_type": "execute_result"
    }
   ],
   "source": [
    "t14[2] = 15\n",
    "t12, t13, t14"
   ],
   "metadata": {
    "collapsed": false,
    "ExecuteTime": {
     "end_time": "2024-05-28T09:18:13.668873Z",
     "start_time": "2024-05-28T09:18:13.659031Z"
    }
   },
   "id": "4dd6d78e778ac36d"
  },
  {
   "cell_type": "code",
   "execution_count": 52,
   "outputs": [],
   "source": [],
   "metadata": {
    "collapsed": false,
    "ExecuteTime": {
     "end_time": "2023-08-24T07:58:23.231409900Z",
     "start_time": "2023-08-24T07:58:22.174501900Z"
    }
   },
   "id": "7fe27b95699494e8"
  }
 ],
 "metadata": {
  "kernelspec": {
   "display_name": "Python 3",
   "language": "python",
   "name": "python3"
  },
  "language_info": {
   "codemirror_mode": {
    "name": "ipython",
    "version": 2
   },
   "file_extension": ".py",
   "mimetype": "text/x-python",
   "name": "python",
   "nbconvert_exporter": "python",
   "pygments_lexer": "ipython2",
   "version": "2.7.6"
  }
 },
 "nbformat": 4,
 "nbformat_minor": 5
}
